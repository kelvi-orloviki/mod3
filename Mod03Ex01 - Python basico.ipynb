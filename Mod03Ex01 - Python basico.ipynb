{
 "cells": [
  {
   "cell_type": "markdown",
   "metadata": {},
   "source": [
    "### 01 - Teste de gravidez\n",
    "Escreva uma célula com controle de fluxos que tem como premissa a existência das seguintes variáveis:\n",
    "\n",
    "- ```sexo``` como ```str``` indicando os valores '**M**' para masculino e '**F**' para feminino  \n",
    "- ```beta_hcg``` que indica a quantidade do beta-HCG no sangue em mUI/mL.\n",
    "\n",
    "A sua tarefa é escrever um código que imprima como resultado \"indivíduo do sexo masculino\" quando sexo = 'M', caso sexo = 'F', se o valor de beta-HCG for maior que 5, retorne \"Positivo\" indicando que a paciente está grávida, e retorne \"Negativo\" caso contrário.\n",
    "\n",
    "Não mexa nos valores da variável ```sexo``` nem em ```beta_hcg```, e escreva um código que funcione para quaisquer valores possíveis de ambos: ```sexo``` = '**M**' ou '**F**' e ```beta_hcg``` assumindo valores inteiros positivos."
   ]
  },
  {
   "cell_type": "code",
   "execution_count": 13,
   "metadata": {},
   "outputs": [
    {
     "name": "stdout",
     "output_type": "stream",
     "text": [
      "Informe o sexo:SAIR\n",
      "Saindo do programa.\n"
     ]
    }
   ],
   "source": [
    "sexo = 'M'\n",
    "beta_hcg = 0\n",
    "\n",
    "# seu código vem abaixo desta linha\n",
    "\n",
    "while True:\n",
    "    \n",
    "    sexo = str(input('Informe o sexo:')).upper()\n",
    "    if sexo == 'SAIR':\n",
    "        print('Saindo do programa.')\n",
    "        break\n",
    "    elif sexo == 'F':\n",
    "        print('Indivíduo do sexo feminino.')\n",
    "        beta_hcg = int(input('Informe o valor de beta-HCG:'))\n",
    "        if beta_hcg <= 5:\n",
    "            print ('Negativo.')\n",
    "        else:\n",
    "            print ('Positivo.')\n",
    "    elif sexo == 'M':\n",
    "        print ('Indivíduo do sexo masculino.')\n",
    "    else:\n",
    "        print ('Valor inválido, por favor, insira \"M\" para sexo masculino, \"F\" para feminino ou \"SAIR\" para sair do programa.')"
   ]
  },
  {
   "cell_type": "markdown",
   "metadata": {},
   "source": [
    "### 02 - Renomeando variáveis\n",
    "\n",
    "Vamos ver adiante que uma forma de renomear variáveis de um conjunto de dados é através de dicionários - o dicionário deve conter como chave o nome original, associando a cada chave um único valor (tipo *str*) que contenha o nome novo.\n",
    "\n",
    "A sua tarefa é escrever um dicionário que possa ser utilizado para traduzir as variáveis ```name``` (nome), ```age``` (idade) e ```income``` (renda). Ou seja, esse dicionário deve relacionar as chaves *name, age* e *income* às suas respectivas traduções."
   ]
  },
  {
   "cell_type": "code",
   "execution_count": 15,
   "metadata": {},
   "outputs": [
    {
     "data": {
      "text/plain": [
       "{'name': 'nome', 'age': 'idade', 'income': 'renda'}"
      ]
     },
     "execution_count": 15,
     "metadata": {},
     "output_type": "execute_result"
    }
   ],
   "source": [
    "dic_renomeacao = {'name': 'nome', 'age': 'idade', 'income': 'renda'}\n",
    "dic_renomeacao"
   ]
  },
  {
   "cell_type": "markdown",
   "metadata": {},
   "source": [
    "### 03 - É divisível?\n",
    "A sua tarefa é escrever um código que indique se um número ```N``` é divisível por um número P. Escreva um programa que faça essa verificação para quaisquer combinações de ```N``` e ```M``` e devolva uma mensagem indicativa no output."
   ]
  },
  {
   "cell_type": "code",
   "execution_count": 22,
   "metadata": {},
   "outputs": [
    {
     "name": "stdout",
     "output_type": "stream",
     "text": [
      "Esse é um programa para saber se um número é divisível por outro. Deseja continuar ou sair? Para continuar escreva \"CONTINUAR\", para sair escreva \"SAIR\".sjasja\n",
      "Valor inválido, escreva \"CONTINUAR\" ou \"SAIR\".\n",
      "Esse é um programa para saber se um número é divisível por outro. Deseja continuar ou sair? Para continuar escreva \"CONTINUAR\", para sair escreva \"SAIR\".continuar\n",
      "Informe o valor de N:40\n",
      "O valor de N é: 40\n",
      "Informe o valor de M:3\n",
      "O valor de M é: 3\n",
      "40 não é divisível por 3.\n",
      "Esse é um programa para saber se um número é divisível por outro. Deseja continuar ou sair? Para continuar escreva \"CONTINUAR\", para sair escreva \"SAIR\".50\n",
      "Valor inválido, escreva \"CONTINUAR\" ou \"SAIR\".\n",
      "Esse é um programa para saber se um número é divisível por outro. Deseja continuar ou sair? Para continuar escreva \"CONTINUAR\", para sair escreva \"SAIR\".5\n",
      "Valor inválido, escreva \"CONTINUAR\" ou \"SAIR\".\n",
      "Esse é um programa para saber se um número é divisível por outro. Deseja continuar ou sair? Para continuar escreva \"CONTINUAR\", para sair escreva \"SAIR\".continuar\n",
      "Informe o valor de N:50\n",
      "O valor de N é: 50\n",
      "Informe o valor de M:5\n",
      "O valor de M é: 5\n",
      "50 é divisível por 5.\n",
      "Esse é um programa para saber se um número é divisível por outro. Deseja continuar ou sair? Para continuar escreva \"CONTINUAR\", para sair escreva \"SAIR\".sair\n",
      "Saindo do programa.\n"
     ]
    }
   ],
   "source": [
    "N = 42\n",
    "M = 7\n",
    "\n",
    "#Seu código\n",
    "\n",
    "while True:\n",
    "    \n",
    "    iniciar = str(input('Esse é um programa para saber se um número é divisível por outro. Deseja continuar ou sair? Para continuar escreva \"CONTINUAR\", para sair escreva \"SAIR\".')).upper()\n",
    "    if iniciar == 'SAIR':\n",
    "        print('Saindo do programa.')\n",
    "        break\n",
    "    elif iniciar == 'CONTINUAR':   \n",
    "        N = int(input('Informe o valor de N:'))\n",
    "        print(f'O valor de N é: {N}')\n",
    "        M = int(input('Informe o valor de M:'))\n",
    "        print(f'O valor de M é: {M}')\n",
    "\n",
    "        P = N / M\n",
    "\n",
    "        if N % M == 0:\n",
    "            print(f'{N} é divisível por {M}.')\n",
    "        else:\n",
    "            print (f'{N} não é divisível por {M}.')\n",
    "    else:\n",
    "      print('Valor inválido, escreva \"CONTINUAR\" ou \"SAIR\".')"
   ]
  },
  {
   "cell_type": "markdown",
   "metadata": {},
   "source": [
    "### 04 - Números primos\n",
    "> Um número **N** é primo se e somente se é divisível por 1, -1, por **N** e por -**N**.  \n",
    "\n",
    "Escreva um script que verifica se ```N``` é um número primo, verificando se ```N``` é divisível por todos os números de ```1``` a ```N-1```. Você vai precisar usar alguma ferramenta de *loop* que você aprendeu para isto. No final, devolva uma mensagem no output indicando se o número é primo ou não."
   ]
  },
  {
   "cell_type": "code",
   "execution_count": 5,
   "metadata": {},
   "outputs": [
    {
     "name": "stdout",
     "output_type": "stream",
     "text": [
      "Insira um número para verificar se ele é um número primo:47\n",
      "47 é um número primo.\n"
     ]
    }
   ],
   "source": [
    "N = 47\n",
    "\n",
    "# seu código abaixo\n",
    "\n",
    "N = int(input('Insira um número para verificar se ele é um número primo:'))\n",
    "div = 0\n",
    "for n in range(1, N+1):\n",
    "    if N % n == 0:\n",
    "        div += 1\n",
    "\n",
    "if div == 2:\n",
    "    print(f'{N} é um número primo.')\n",
    "else:\n",
    "    print(f'{N} não é um número primo.')"
   ]
  },
  {
   "cell_type": "markdown",
   "metadata": {},
   "source": [
    "### 05 - Desafio\n",
    "O algorítmo do exercício anterior não é o mais eficiente. O que você pode fazer para deixá-lo mais eficiente? Ou seja, executar menos comparações, portanto consumir menos tempo.\n",
    "1. Será que precisamos correr o loop até o final sempre?\n",
    "2. Será que precisamos mesmo verificar **todos** os números?\n",
    "3. Será que precisamos ir até N-1?\n",
    "\n",
    "Essas perguntas levam ao tipo de pensamento voltado a deixar um algoritmo mais eficiente. Veja se você consegue melhorar o seu."
   ]
  },
  {
   "cell_type": "code",
   "execution_count": 7,
   "metadata": {},
   "outputs": [
    {
     "name": "stdout",
     "output_type": "stream",
     "text": [
      "Insira um número para verificar se ele é um número primo:8\n",
      "8 não é um número primo.\n"
     ]
    }
   ],
   "source": [
    "N = 98\n",
    "\n",
    "# seu código aqui\n",
    "\n",
    "def primo(N):\n",
    "    if N < 2:\n",
    "        return False\n",
    "    for i in range(2, int(N**0.5) + 1):\n",
    "        if N % i == 0:\n",
    "            return False\n",
    "    return True\n",
    "\n",
    "N = int(input('Insira um número para verificar se ele é um número primo:'))\n",
    "if primo(N):\n",
    "    print(f'{N} é um número primo.')\n",
    "else:\n",
    "    print(f'{N} não é um número primo.')"
   ]
  },
  {
   "cell_type": "markdown",
   "metadata": {},
   "source": [
    "### 06 - Peso ideal 1\n",
    "O IMC (índice de massa corpórea) é um indicador de saúde mais bem aceito que o peso. Ele é calculado como:\n",
    "\n",
    "$$ IMC = \\dfrac{peso}{altura^2}$$\n",
    "\n",
    "Segundo a OMS, valores *normais* são entre 18.5 e 24.9.\n",
    "\n",
    "Sua tarefa é encontrar o ponto médio dessa faixa."
   ]
  },
  {
   "cell_type": "code",
   "execution_count": 8,
   "metadata": {},
   "outputs": [
    {
     "data": {
      "text/plain": [
       "21.7"
      ]
     },
     "execution_count": 8,
     "metadata": {},
     "output_type": "execute_result"
    }
   ],
   "source": [
    "imc_ideal = (24.9 + 18.5)/2\n",
    "imc_ideal"
   ]
  },
  {
   "cell_type": "markdown",
   "metadata": {},
   "source": [
    "### 07 - Peso ideal 2\n",
    "Recebendo um valor de altura, encontre o peso '*ideal*' dessa pessoa, que fornece o IMC encontrado acima"
   ]
  },
  {
   "cell_type": "code",
   "execution_count": 14,
   "metadata": {},
   "outputs": [
    {
     "data": {
      "text/plain": [
       "62.71"
      ]
     },
     "execution_count": 14,
     "metadata": {},
     "output_type": "execute_result"
    }
   ],
   "source": [
    "altura = 1.70\n",
    "\n",
    "# Seu código\n",
    "\n",
    "peso_ideal = round((altura ** 2) * imc_ideal, 2)\n",
    "peso_ideal"
   ]
  },
  {
   "cell_type": "markdown",
   "metadata": {},
   "source": [
    "### 08 - Peso ideal 3\n",
    "Dada uma lista contendo as alturas de pacientes, crie uma nova lista que contenha o peso '*ideal*' (que fornece o IMC calculado em **Peso ideal 1**) desses pacientes."
   ]
  },
  {
   "cell_type": "code",
   "execution_count": 22,
   "metadata": {},
   "outputs": [
    {
     "name": "stdout",
     "output_type": "stream",
     "text": [
      "[82.51, 91.19, 62.71, 59.08]\n"
     ]
    }
   ],
   "source": [
    "lista_alturas = [1.95, 2.05, 1.70, 1.65]\n",
    "\n",
    "lista_peso_ideal = []\n",
    "\n",
    "# seu código\n",
    "\n",
    "for altura in lista_alturas:\n",
    "    peso_ideal = round((altura ** 2) * imc_ideal, 2)\n",
    "    lista_peso_ideal.append(peso_ideal)\n",
    "    \n",
    "print(lista_peso_ideal)"
   ]
  },
  {
   "cell_type": "markdown",
   "metadata": {},
   "source": [
    "### 09 - Peso ideal 4\n",
    "Dada uma lista de tuplas - cada elemento da lista é uma tupla contendo altura e peso de um paciente - crie uma nova lista com o IMC desses pacientes."
   ]
  },
  {
   "cell_type": "code",
   "execution_count": 23,
   "metadata": {},
   "outputs": [
    {
     "name": "stdout",
     "output_type": "stream",
     "text": [
      "[27.78, 27.55, 19.19]\n"
     ]
    }
   ],
   "source": [
    "altura_peso = [(1.80, 90), (1.65, 75), (1.91, 70)]\n",
    "\n",
    "imc = []\n",
    "\n",
    "# seu código\n",
    "\n",
    "for altura, peso in altura_peso:\n",
    "    cal_imc = round(peso / (altura ** 2), 2)\n",
    "    imc.append(cal_imc)\n",
    "    \n",
    "print(imc)"
   ]
  },
  {
   "cell_type": "markdown",
   "metadata": {},
   "source": [
    "### 10 - Peso ideal 5\n",
    "Dada uma lista de **listas** - cada elemento da lista é uma **lista** contendo altura e peso de um paciente, adicione mais um elemento à lista de cada paciente contendo o IMC do paciente. Verifique também se é 'baixo', 'normal' ou 'alto' segundo os padrões da OMS em que normal é entre 18.5 e 24.9.\n",
    "\n",
    "Reflexão: por que no problema anterior temos que criar uma nova lista, e não podemos adicionar os dados de cada indivíduo à tupla?"
   ]
  },
  {
   "cell_type": "code",
   "execution_count": 28,
   "metadata": {},
   "outputs": [
    {
     "name": "stdout",
     "output_type": "stream",
     "text": [
      "[[1.8, 90, 27.78, 'Alto'], [1.65, 75, 27.55, 'Alto'], [1.91, 70, 19.19, 'Normal']]\n",
      "[[1.8, 90, 27.78, 'Alto'], [1.65, 75, 27.55, 'Alto'], [1.91, 70, 19.19, 'Normal']]\n",
      "[[1.8, 90, 27.78, 'Alto'], [1.65, 75, 27.55, 'Alto'], [1.91, 70, 19.19, 'Normal']]\n"
     ]
    }
   ],
   "source": [
    "altura_peso = [[1.80, 90], [1.65, 75], [1.91, 70]]\n",
    "\n",
    "# seu código\n",
    "\n",
    "for paciente in altura_peso:\n",
    "    altura, peso = paciente\n",
    "    imc = round(peso / (altura ** 2), 2)\n",
    "    if imc < 18.5:\n",
    "        indice = 'Baixo'\n",
    "    elif imc > 24.9:\n",
    "        indice = 'Alto'\n",
    "    else:\n",
    "        indice = 'Normal'\n",
    "        \n",
    "    paciente.extend([imc, indice])\n",
    "        \n",
    "for item in altura_peso:        \n",
    "    print (altura_peso)"
   ]
  },
  {
   "cell_type": "code",
   "execution_count": null,
   "metadata": {},
   "outputs": [],
   "source": []
  }
 ],
 "metadata": {
  "kernelspec": {
   "display_name": "Python 3 (ipykernel)",
   "language": "python",
   "name": "python3"
  },
  "language_info": {
   "codemirror_mode": {
    "name": "ipython",
    "version": 3
   },
   "file_extension": ".py",
   "mimetype": "text/x-python",
   "name": "python",
   "nbconvert_exporter": "python",
   "pygments_lexer": "ipython3",
   "version": "3.11.5"
  }
 },
 "nbformat": 4,
 "nbformat_minor": 4
}
